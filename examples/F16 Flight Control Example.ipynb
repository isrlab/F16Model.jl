{
  "cells": [
    {
      "cell_type": "markdown",
      "metadata": {},
      "source": [
        "# Flight Control Design and Nonlinear Simulations of Closed-Loop System\n",
        "### Raktim Bhattacharya\n",
        "*Professor* \n",
        "\n",
        "Aerospace Engineering, Texas A&M University\n",
        "\n",
        "raktim@tamu.edu, https://isrlab.github.io"
      ]
    },
    {
      "cell_type": "markdown",
      "metadata": {},
      "source": [
        "**Note**: Plots will appear once the notebook is executed. May not show up in GitHub."
      ]
    },
    {
      "cell_type": "markdown",
      "metadata": {},
      "source": [
        "# Initialize"
      ]
    },
    {
      "cell_type": "code",
      "execution_count": 1,
      "metadata": {},
      "outputs": [],
      "source": [
        "using F16Model \n",
        "using PrettyTables, LinearAlgebra, Plots, Convex, MosekTools, DifferentialEquations\n",
        "\n",
        "F16Model.PrintStateAndControlBounds()"
      ]
    },
    {
      "cell_type": "markdown",
      "metadata": {},
      "source": [
        "# Basic Operations"
      ]
    },
    {
      "cell_type": "code",
      "execution_count": null,
      "metadata": {},
      "outputs": [],
      "source": [
        "# Define state vector\n",
        "# -------------------\n",
        "d2r = pi/180;\n",
        "npos = 0; # ft\n",
        "epos = 0; # ft\n",
        "alt = 10000; # should be in between 5000 ft and 100000 ft\n",
        "phi = 0;   # rad -- Roll\n",
        "theta = 0; # rad -- Pitch\n",
        "psi = 0;   # rad -- Yaw\n",
        "Vt = 300;  # ft/s -- Total velocity\n",
        "alp = 0;   # rad -- Angle of attack\n",
        "bet = 0;   # rad -- Side slip angle \n",
        "p = 0;     # rad/s -- Roll rate\n",
        "q = 0;     # rad/s -- Pitch rate\n",
        "r = 0;     # rad/s -- Yaw rate\n",
        "\n",
        "x0 = [npos,epos,alt,phi,theta,psi,Vt,alp,bet,p,q,r];\n",
        "\n",
        "# Define control vector\n",
        "# ---------------------\n",
        "T = 9000; # Thrust lbs\n",
        "dele = 0; # deg elevator angle\n",
        "dail = 0; # deg aileron angle\n",
        "drud = 0; # deg rudder angle\n",
        "dlef = 0; # deg leading edge flap angle\n",
        "u0 = [T,dele,dail,drud,dlef];"
      ]
    },
    {
      "cell_type": "code",
      "execution_count": null,
      "metadata": {},
      "outputs": [],
      "source": [
        "# Evaluate xdot -- inplace implementation -- use this with DifferentialEquations package.\n",
        "xdot1 = zeros(12);\n",
        "F16Model.Dynamics!(xdot1,x0,u0); # Does not implement actuator dynamics.\n",
        "\n",
        "# Evaluate xdot -- returns vector. Use this for linearization of dynamics, etc.\n",
        "xdot2 = F16Model.Dynamics(x0,u0); #  Does not implement actuator dynamics."
      ]
    },
    {
      "cell_type": "markdown",
      "metadata": {},
      "source": [
        "# Find Equilibrium (or Trim) Condition\n",
        "For steady-level flight."
      ]
    },
    {
      "cell_type": "code",
      "execution_count": null,
      "metadata": {},
      "outputs": [],
      "source": [
        "# Trim the aircraft for steady-level flight at h0,V0\n",
        "# xbar = trim state\n",
        "# ubar = trim control\n",
        "# status = status of the optimization, status = 0 means optimization found solution and (xbar, ubar) defines a valid trim  point\n",
        "# prob = data structure from IpOpt.\n",
        "\n",
        "h0 = 10000; # ft\n",
        "Vt0 = 500;   # ft/s\n",
        "\n",
        "# Stead-Level Flight\n",
        "xbar, ubar, status, prob = F16Model.Trim(h0,Vt0,γ=0, ψdot=0, ϕ=(0,1), ψ=(0,1), β=(0,1), p=(0,1), q=(0,1), r=(0,1));\n",
        "xdot_trim = F16Model.Dynamics(xbar,ubar); # Should be close to zero."
      ]
    },
    {
      "cell_type": "markdown",
      "metadata": {},
      "source": [
        "# Check Trim Values"
      ]
    },
    {
      "cell_type": "code",
      "execution_count": null,
      "metadata": {},
      "outputs": [],
      "source": [
        "# Check Trim Values\n",
        "xuBounds = F16Model.StateAndControlBounds();\n",
        "states = [\"npos\",\"epos\",\"h\",\"phi\",\"theta\",\"psi\",\"V\",\"alpha\",\"beta\",\"p\",\"q\",\"r\"];\n",
        "statesDer = [\"Dnpos\",\"Depos\",\"Dh\",\"Dphi\",\"Dtheta\",\"Dpsi\",\"DV\",\"Dalpha\",\"Ddbeta\",\"Dp\",\"Dq\",\"Dr\"];\n",
        "controls = [\"T\",\"ele\",\"ail\",\"rud\",\"lef\"];\n",
        "\n",
        "xmin = vcat([-Inf;-Inf],xuBounds[1:10,1]); xmax = vcat([Inf;Inf], xuBounds[1:10,2]);\n",
        "\n",
        "data = hcat(states,xdot_trim,xmin,xbar,xmax)\n",
        "pretty_table(header=[\"states\",\"xdot\",\"xmin\",\"xbar\",\"xmax\"],data);\n",
        "pretty_table(header=[\"controls\",\"umin\",\"ubar\",\"umax\"],hcat(controls,xuBounds[11:end,1],ubar,xuBounds[11:end,2]));"
      ]
    },
    {
      "cell_type": "markdown",
      "metadata": {},
      "source": [
        "# Linear Analysis"
      ]
    },
    {
      "cell_type": "code",
      "execution_count": null,
      "metadata": {},
      "outputs": [],
      "source": [
        "# Linearize about trim point (xbar,ubar)\n",
        "A, B = F16Model.Linearize(xbar,ubar);\n",
        "\n",
        "# Pull out longitudinal dynamics -- states:(theta,V,alpha,q), control:(T,ele)\n",
        "ix = [5,7,8,11]; iu = [1,2]; # 4 states, 3 control system.\n",
        "longiA = A[ix,ix];\n",
        "longiB = B[ix,iu];\n",
        "\n",
        "# Show system\n",
        "pretty_table(header = vcat(\"xdotLongi\",states[ix],controls[iu]),hcat(statesDer[ix],longiA,longiB))\n",
        "\n",
        "# Eigen values \n",
        "ev = eigen(longiA).values;\n",
        "pretty_table(header=[\"Eigen values\"],ev)\n",
        "\n",
        "plot(real(ev),imag(ev),seriestype=:scatter,label=\"Eigen values\")"
      ]
    },
    {
      "cell_type": "markdown",
      "metadata": {},
      "source": [
        "# Linear Controller Design\n",
        "Design state feedback controller $$u = Kx,$$ for the system $$\\dot{x}(t) = Ax(t) + Bu(t),$$\n",
        "which minimizes the cost\n",
        "$$\n",
        "\\int_0^\\infty \\left(x^TQx + u^TRu\\right)dt.\n",
        "$$\n",
        "Can be solved as the following convex optimization problem. See pg. 28 in [this document](https://isrlab.github.io/pdfs/aero632/05a%20StateFeedback%20LQR.pdf)."
      ]
    },
    {
      "cell_type": "code",
      "execution_count": null,
      "metadata": {},
      "outputs": [],
      "source": [
        "# Design LQR \n",
        "Q = Diagonal([1/0.1,1/100,1/0.1,1/200]);\n",
        "R = Diagonal([1/5000,1/5]);\n",
        "\n",
        "ns,nu = size(longiB);\n",
        "Y = Semidefinite(ns,ns);\n",
        "W = Convex.Variable(nu,ns)\n",
        "\n",
        "M11 = (longiA*Y + longiB*W) + (longiA*Y + longiB*W)'\n",
        "M = [M11 Y W';\n",
        "     Y  -inv(Q) zeros(ns,nu);\n",
        "     W   zeros(nu,ns) -inv(R)];\n",
        "prob = maximize(tr(Y),-M in :SDP)\n",
        "\n",
        "Convex.solve!(prob,Mosek.Optimizer); # Careful with other solvers. Solution accuracy impacts controller performance.\n",
        "@show prob.status"
      ]
    },
    {
      "cell_type": "code",
      "execution_count": null,
      "metadata": {},
      "outputs": [],
      "source": [
        "# Closed-loop linear system\n",
        "K = W.value*inv(Y.value); # Recover controller gain.\n",
        "Acl = longiA + longiB*K;  # Closed-loop system.\n",
        "\n",
        "# Eigen values \n",
        "ev_cl = eigen(Acl).values;\n",
        "pretty_table(header=[\"OL EV\",\"CL EV\"],hcat(ev,ev_cl));\n",
        "\n",
        "plot(real(ev),imag(ev),seriestype=:scatter,label=\"Eigen values: OL\")\n",
        "plot!(real(ev_cl),imag(ev_cl),seriestype=:scatter,label=\"Eigen values: CL\")"
      ]
    },
    {
      "cell_type": "markdown",
      "metadata": {},
      "source": [
        "We see from the above plot that the closed-loop system has improved the low frequency lightly damped modes (known as phugoid mode). This is reflected in faster decay of perturbations as shown next."
      ]
    },
    {
      "cell_type": "markdown",
      "metadata": {},
      "source": [
        "# Simulate Linear System with LQR "
      ]
    },
    {
      "cell_type": "code",
      "execution_count": null,
      "metadata": {},
      "outputs": [],
      "source": [
        "# Simulate linear system\n",
        "dt = 0.01; tfinal = 15;\n",
        "tGrid = 0:dt:tfinal;\n",
        "\n",
        "x0 = [0,50,0,0];\n",
        "\n",
        "xTraj = hcat([exp(Acl*t)*x0 for t in tGrid]...);\n",
        "xTrajOL = hcat([exp(longiA*t)*x0 for t in tGrid]...);\n",
        "xp = [plot(tGrid,[xTraj[i,:],xTrajOL[i,:]],label=[\"CL\" \"OL\"],xlabel=\"Time(s)\",ylabel=states[ix[i]],lw=2) for i in 1:ns]\n",
        "\n",
        "uTraj = K*xTraj;\n",
        "up = [plot(tGrid,uTraj[i,:],label=:none,xlabel=\"Time(s)\",ylabel=controls[iu[i]],lw=2) for i in 1:nu]\n",
        "\n",
        "display(plot(xp...,up...));"
      ]
    },
    {
      "cell_type": "markdown",
      "metadata": {},
      "source": [
        "# Simulate Nonlinear Closed-Loop System"
      ]
    },
    {
      "cell_type": "code",
      "execution_count": null,
      "metadata": {},
      "outputs": [],
      "source": [
        "# Create nonlinear closed-loop system \n",
        "function nonlinear_longi_F16_cl!(xdot,x,p,t)\n",
        "    xpert = x-xbar;\n",
        "    u = copy(ubar);\n",
        "    u[iu] = K*xpert[ix];\n",
        "    F16Model.Dynamics!(xdot,x,u);\n",
        "end\n",
        "\n",
        "# Simulate from some initial condition: 50 ft/s perturbation from trim.\n",
        "nl_x0 =  xbar + [0,0,0,0,0,0,50,0,0,0,0,0]; # IC is offset from trim.\n",
        "tspan = (0.0,30);\n",
        "xdot = zeros(12)\n",
        "prob = ODEProblem(nonlinear_longi_F16_cl!,nl_x0,tspan);\n",
        "sol = solve(prob);"
      ]
    },
    {
      "cell_type": "code",
      "execution_count": null,
      "metadata": {},
      "outputs": [],
      "source": [
        "# Plot the nonlinear solution and compare with linear solution.\n",
        "xTrajNL = hcat(sol.u...);\n",
        "xpert = xTrajNL .- xbar;\n",
        "uNL = K*xpert[ix,:]; \n",
        "\n",
        "\n",
        "xpNL = [begin \n",
        "        plot(sol.t,sol[ix[i],:].-xbar[ix[i]],label=\"NLin\",lw=2,xlabel=\"Time(s)\",ylabel=states[ix[i]]); \n",
        "        plot!(tGrid,xTraj[i,:],label=\"Lin\",lw=2);\n",
        "     end for i in 1:ns];\n",
        "\n",
        "upNL = [begin \n",
        "     plot(sol.t,uNL[i,:],label=\"NLin\",lw=2,xlabel=\"Time(s)\",ylabel=controls[iu[i]]); \n",
        "     plot!(tGrid,uTraj[i,:],label=\"Lin\",lw=2);\n",
        "  end for i in 1:nu];\n",
        "\n",
        "display(plot(xpNL...,upNL...));"
      ]
    },
    {
      "cell_type": "markdown",
      "metadata": {},
      "source": [
        "# Large perturbation\n",
        "Simulate with velocity perturbation equal to 110 ft/s. "
      ]
    },
    {
      "cell_type": "code",
      "execution_count": null,
      "metadata": {},
      "outputs": [],
      "source": [
        "nl_x0 =  xbar + [0,0,0,0,0,0,110,0,0,0,0,0]; # IC is offset from trim.\n",
        "tspan = (0.0,30);\n",
        "xdot = zeros(12)\n",
        "prob = ODEProblem(nonlinear_longi_F16_cl!,nl_x0,tspan);\n",
        "sol = solve(prob);\n",
        "\n",
        "xTrajNL = hcat(sol.u...);\n",
        "xpert = xTrajNL .- xbar; #K*xpert[ix];\n",
        "uNL = K*xpert[ix,:]; \n",
        "\n",
        "x0 = [0,110,0,0];\n",
        "xTraj = hcat([exp(Acl*t)*x0 for t in tGrid]...);\n",
        "\n",
        "xpNL = [begin \n",
        "        plot(sol.t,sol[ix[i],:].-xbar[ix[i]],label=\"NLin\",lw=2,xlabel=\"Time(s)\",ylabel=states[ix[i]]); \n",
        "        plot!(tGrid,xTraj[i,:],label=\"Lin\",lw=2);\n",
        "     end for i in 1:ns];\n",
        "\n",
        "upNL = [begin \n",
        "     plot(sol.t,uNL[i,:],label=\"NLin\",lw=2,xlabel=\"Time(s)\",ylabel=controls[iu[i]]); \n",
        "     plot!(tGrid,uTraj[i,:],label=\"Lin\",lw=2);\n",
        "  end for i in 1:nu];\n",
        "\n",
        "display(plot(xpNL...,upNL...));"
      ]
    }
  ],
  "metadata": {
    "kernelspec": {
      "display_name": "Julia 1.7.2",
      "language": "julia",
      "name": "julia-1.7"
    },
    "language_info": {
      "file_extension": ".jl",
      "mimetype": "application/julia",
      "name": "julia",
      "version": "1.7.2"
    },
    "nteract": {
      "version": "0.28.0"
    },
    "orig_nbformat": 4
  },
  "nbformat": 4,
  "nbformat_minor": 2
}
